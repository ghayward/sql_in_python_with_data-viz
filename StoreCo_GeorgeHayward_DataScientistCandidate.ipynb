{
 "cells": [
  {
   "cell_type": "markdown",
   "metadata": {},
   "source": [
    "Monday, May 6, 2019\n",
    "\n",
    "Hello World! \n",
    "\n",
    "Please find below an anlysis assignemnt I recently completed. I submitted answers in Python, via a Jupyter Notebook. To answer the SQL questions, I ran SQL through Python via Pandas and SQLite. \n",
    "\n",
    "Thanks for stopping by!\n",
    "\n",
    "Best, \n",
    "<br>George"
   ]
  },
  {
   "cell_type": "code",
   "execution_count": 1,
   "metadata": {},
   "outputs": [],
   "source": [
    "#importing what I need\n",
    "import pandas as pd\n",
    "from matplotlib import pyplot as plt\n",
    "import sqlite3 as sql"
   ]
  },
  {
   "cell_type": "code",
   "execution_count": 2,
   "metadata": {},
   "outputs": [],
   "source": [
    "#connecting\n",
    "conn = sql.connect(\"storeco_georgehayward_data-scientist-candidate.db\")\n",
    "#reading in takehome data assignment\n",
    "storeco = pd.read_csv(\"storeco_data.csv\")\n",
    "#cleaning the data\n",
    "storeco.columns = storeco.columns.str.strip()\n",
    "#need to get the strings into dates\n",
    "storeco['dateordered'] =  pd.to_datetime(storeco['dateordered'],format='%m/%d/%y')\n",
    "storeco['datereturned'] =  pd.to_datetime(storeco['datereturned'],format='%m/%d/%y')\n",
    "#prepaing for SQL\n",
    "storeco.to_sql(\"storeco\",conn,if_exists='replace',index=False)"
   ]
  },
  {
   "cell_type": "markdown",
   "metadata": {},
   "source": [
    "### Exercise 1: Crunch the data and tell us whether our return rate is trending up or down. Additional insights are welcome, but not required."
   ]
  },
  {
   "cell_type": "markdown",
   "metadata": {},
   "source": [
    "George JJTA Hayward: First, I am going to get you a table that shows everything we need quickly. Second, I am going to give you a data visualization that summarizes the table. "
   ]
  },
  {
   "cell_type": "code",
   "execution_count": 3,
   "metadata": {},
   "outputs": [
    {
     "data": {
      "text/html": [
       "<div>\n",
       "<style scoped>\n",
       "    .dataframe tbody tr th:only-of-type {\n",
       "        vertical-align: middle;\n",
       "    }\n",
       "\n",
       "    .dataframe tbody tr th {\n",
       "        vertical-align: top;\n",
       "    }\n",
       "\n",
       "    .dataframe thead th {\n",
       "        text-align: right;\n",
       "    }\n",
       "</style>\n",
       "<table border=\"1\" class=\"dataframe\">\n",
       "  <thead>\n",
       "    <tr style=\"text-align: right;\">\n",
       "      <th></th>\n",
       "      <th>Order Month</th>\n",
       "      <th>Total Orders</th>\n",
       "      <th>Completed Orders</th>\n",
       "      <th>Returned Orders</th>\n",
       "      <th>Return Percentage</th>\n",
       "    </tr>\n",
       "  </thead>\n",
       "  <tbody>\n",
       "    <tr>\n",
       "      <th>0</th>\n",
       "      <td>2016-08</td>\n",
       "      <td>149</td>\n",
       "      <td>139</td>\n",
       "      <td>10</td>\n",
       "      <td>6.7</td>\n",
       "    </tr>\n",
       "    <tr>\n",
       "      <th>1</th>\n",
       "      <td>2016-09</td>\n",
       "      <td>143</td>\n",
       "      <td>134</td>\n",
       "      <td>9</td>\n",
       "      <td>6.3</td>\n",
       "    </tr>\n",
       "    <tr>\n",
       "      <th>2</th>\n",
       "      <td>2016-10</td>\n",
       "      <td>180</td>\n",
       "      <td>170</td>\n",
       "      <td>10</td>\n",
       "      <td>5.6</td>\n",
       "    </tr>\n",
       "    <tr>\n",
       "      <th>3</th>\n",
       "      <td>2016-11</td>\n",
       "      <td>226</td>\n",
       "      <td>214</td>\n",
       "      <td>12</td>\n",
       "      <td>5.3</td>\n",
       "    </tr>\n",
       "    <tr>\n",
       "      <th>4</th>\n",
       "      <td>2016-12</td>\n",
       "      <td>395</td>\n",
       "      <td>376</td>\n",
       "      <td>19</td>\n",
       "      <td>4.8</td>\n",
       "    </tr>\n",
       "  </tbody>\n",
       "</table>\n",
       "</div>"
      ],
      "text/plain": [
       "  Order Month  Total Orders  Completed Orders  Returned Orders  \\\n",
       "0     2016-08           149               139               10   \n",
       "1     2016-09           143               134                9   \n",
       "2     2016-10           180               170               10   \n",
       "3     2016-11           226               214               12   \n",
       "4     2016-12           395               376               19   \n",
       "\n",
       "   Return Percentage  \n",
       "0                6.7  \n",
       "1                6.3  \n",
       "2                5.6  \n",
       "3                5.3  \n",
       "4                4.8  "
      ]
     },
     "execution_count": 3,
     "metadata": {},
     "output_type": "execute_result"
    }
   ],
   "source": [
    "#I will inject the SQL into Python below:\n",
    "pd.read_sql_query(\"\"\"\n",
    "SELECT \n",
    "strftime('%Y-%m', dateordered) AS 'Order Month',\n",
    "sum(orders) AS 'Total Orders',\n",
    "sum(CASE WHEN orderstatus = 'returned' THEN 0 ELSE orders END) AS 'Completed Orders',\n",
    "sum(CASE WHEN orderstatus = 'complete' THEN 0 ELSE orders END) AS 'Returned Orders',\n",
    "100*round(sum(CASE WHEN orderstatus = 'complete' THEN 0 ELSE orders END)/((sum(orders))*1.00),3) AS 'Return Percentage'\n",
    "FROM storeco \n",
    "GROUP BY 1\n",
    "ORDER BY 1 ASC;\n",
    "\"\"\", conn)"
   ]
  },
  {
   "cell_type": "code",
   "execution_count": 4,
   "metadata": {
    "scrolled": true
   },
   "outputs": [
    {
     "data": {
      "image/png": "[encoded data removed]",
      "text/plain": [
       "<Figure size 1080x720 with 1 Axes>"
      ]
     },
     "metadata": {
      "needs_background": "light"
     },
     "output_type": "display_data"
    }
   ],
   "source": [
    "#I will now show viszualize the data. I prefer a stacked bar chart for this:\n",
    "storeco_dv = pd.read_sql_query(\"\"\"\n",
    "SELECT \n",
    "strftime('%Y-%m', dateordered) AS 'Order_Month',\n",
    "sum(orders) AS 'Total_Orders',\n",
    "sum(CASE WHEN orderstatus = 'returned' THEN 0 ELSE orders END) AS 'Completed_Orders',\n",
    "sum(CASE WHEN orderstatus = 'complete' THEN 0 ELSE orders END) AS 'Returned_Orders',\n",
    "100*round(sum(CASE WHEN orderstatus = 'complete' THEN 0 ELSE orders END)/((sum(orders))*1.00),4) AS 'Return_Percentage'\n",
    "FROM storeco \n",
    "GROUP BY 1\n",
    "ORDER BY 1 ASC;\n",
    "\"\"\", conn)\n",
    "\n",
    "f, ax = plt.subplots(figsize=(15, 10))\n",
    "\n",
    "returns = storeco_dv.Returned_Orders\n",
    "total = storeco_dv.Total_Orders\n",
    "percent = storeco_dv.Return_Percentage\n",
    "\n",
    "p1 = plt.bar(range(len(returns)),\n",
    " returns, color = 'cornflowerblue')\n",
    "\n",
    "p2 = plt.bar(range(len(total)),\n",
    " total, bottom = returns, color = 'sandybrown')\n",
    "\n",
    "ax.set_xticklabels(['0','August', 'September', 'October','November', 'December'], style='italic')\n",
    "plt.xlabel(\"Month\", fontweight='bold', fontsize = 13)\n",
    "plt.ylabel(\"Number of Orders\", fontweight='bold', fontsize = 13)\n",
    "plt.legend((p1[0], p2[0]), ('Returned Orders', 'Completed Orders'))\n",
    "plt.title(\"StoreCo's Completed and Returned Orders, 2016\", fontsize = 16, fontweight = 'bold')\n",
    "\n",
    "for a,b in zip(range(len(total)), total):\n",
    "   plt.text(a, b+22, str(b)+\" total orders\", horizontalalignment='center', color='green', fontweight='bold')\n",
    "\n",
    "for a,b in zip(range(len(percent)), percent):\n",
    "   plt.text(a, 0+50, str(round(b,2))+\"% returned\", horizontalalignment='center', color='black', fontweight='bold')\n",
    "\n",
    "plt.savefig('hayward_george_storeco_data_scientist_candidate.png')\n",
    "plt.show()"
   ]
  },
  {
   "cell_type": "markdown",
   "metadata": {},
   "source": [
    "George JJTA Hayward:  Additional insight: The return rate is going down because completed orders are increasing. The absolute number of returns is staying steady. So we may want to look at why we can't get returns to be any lower (this could be a policy or disclosure change with the customer). Further, please note that in the data set, returns never go higher than one per day."
   ]
  },
  {
   "cell_type": "markdown",
   "metadata": {},
   "source": [
    "### Exercise 2: Write the SQL code to produce number of completed orders by date (name of source data table is ‘storeco_orders’)."
   ]
  },
  {
   "cell_type": "markdown",
   "metadata": {},
   "source": [
    "George JJTA Hayward: In a way, this is already included in my original table, and I will also replicate that information below, via SQL, with a slightly different SELECT statement. Please also note that I have called the table 'storeco' instead of 'storeco_orders'. Finally, the below query will group by month, as opposed to day, because it says \"we measure our metrics by month, so please provide the answer at a month\" in the rules of the takehome assignment. "
   ]
  },
  {
   "cell_type": "code",
   "execution_count": 5,
   "metadata": {},
   "outputs": [
    {
     "data": {
      "text/html": [
       "<div>\n",
       "<style scoped>\n",
       "    .dataframe tbody tr th:only-of-type {\n",
       "        vertical-align: middle;\n",
       "    }\n",
       "\n",
       "    .dataframe tbody tr th {\n",
       "        vertical-align: top;\n",
       "    }\n",
       "\n",
       "    .dataframe thead th {\n",
       "        text-align: right;\n",
       "    }\n",
       "</style>\n",
       "<table border=\"1\" class=\"dataframe\">\n",
       "  <thead>\n",
       "    <tr style=\"text-align: right;\">\n",
       "      <th></th>\n",
       "      <th>Order_Month</th>\n",
       "      <th>Total_Completed_Orders</th>\n",
       "    </tr>\n",
       "  </thead>\n",
       "  <tbody>\n",
       "    <tr>\n",
       "      <th>0</th>\n",
       "      <td>2016-08</td>\n",
       "      <td>139</td>\n",
       "    </tr>\n",
       "    <tr>\n",
       "      <th>1</th>\n",
       "      <td>2016-09</td>\n",
       "      <td>134</td>\n",
       "    </tr>\n",
       "    <tr>\n",
       "      <th>2</th>\n",
       "      <td>2016-10</td>\n",
       "      <td>170</td>\n",
       "    </tr>\n",
       "    <tr>\n",
       "      <th>3</th>\n",
       "      <td>2016-11</td>\n",
       "      <td>214</td>\n",
       "    </tr>\n",
       "    <tr>\n",
       "      <th>4</th>\n",
       "      <td>2016-12</td>\n",
       "      <td>376</td>\n",
       "    </tr>\n",
       "  </tbody>\n",
       "</table>\n",
       "</div>"
      ],
      "text/plain": [
       "  Order_Month  Total_Completed_Orders\n",
       "0     2016-08                     139\n",
       "1     2016-09                     134\n",
       "2     2016-10                     170\n",
       "3     2016-11                     214\n",
       "4     2016-12                     376"
      ]
     },
     "execution_count": 5,
     "metadata": {},
     "output_type": "execute_result"
    }
   ],
   "source": [
    "pd.read_sql_query(\"\"\"\n",
    "SELECT \n",
    "strftime('%Y-%m', dateordered) AS 'Order_Month',\n",
    "sum(orders) AS 'Total_Completed_Orders'\n",
    "FROM storeco \n",
    "WHERE orderstatus = 'complete'\n",
    "GROUP BY 1\n",
    "ORDER BY 1 ASC;\n",
    "\"\"\", conn)"
   ]
  },
  {
   "cell_type": "markdown",
   "metadata": {},
   "source": [
    "Thanks for reading through everything!\n",
    "<br>Best,\n",
    "<br>George JJTA Hayward\n",
    "<br>Data Scientist Candidate\n",
    "<br>May 6, 2019"
   ]
  }
 ],
 "metadata": {
  "kernelspec": {
   "display_name": "Python 3",
   "language": "python",
   "name": "python3"
  },
  "language_info": {
   "codemirror_mode": {
    "name": "ipython",
    "version": 3
   },
   "file_extension": ".py",
   "mimetype": "text/x-python",
   "name": "python",
   "nbconvert_exporter": "python",
   "pygments_lexer": "ipython3",
   "version": "3.7.1"
  }
 },
 "nbformat": 4,
 "nbformat_minor": 2
}
